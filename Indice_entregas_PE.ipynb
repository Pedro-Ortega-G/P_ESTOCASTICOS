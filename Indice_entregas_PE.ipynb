{
  "nbformat": 4,
  "nbformat_minor": 0,
  "metadata": {
    "colab": {
      "provenance": [],
      "authorship_tag": "ABX9TyMpi8sqyPQoAw8K0HGCjod5",
      "include_colab_link": true
    },
    "kernelspec": {
      "name": "python3",
      "display_name": "Python 3"
    },
    "language_info": {
      "name": "python"
    }
  },
  "cells": [
    {
      "cell_type": "markdown",
      "metadata": {
        "id": "view-in-github",
        "colab_type": "text"
      },
      "source": [
        "<a href=\"https://colab.research.google.com/github/Pedro-Ortega-G/P_ESTOCASTICOS/blob/main/Indice_entregas_PE.ipynb\" target=\"_parent\"><img src=\"https://colab.research.google.com/assets/colab-badge.svg\" alt=\"Open In Colab\"/></a>"
      ]
    },
    {
      "cell_type": "code",
      "execution_count": null,
      "metadata": {
        "id": "5JaPsylPtV5D"
      },
      "outputs": [],
      "source": []
    },
    {
      "cell_type": "markdown",
      "source": [
        "Este cuaderno sirve de índice para la organizacion de las tareas propuestas para la asignatura PROCESOS ESTOCÁSTICOS.\n",
        "-El archivo \"energy_dataset.csv\" (https://github.com/Pedro-Ortega-G/P_ESTOCASTICOS/releases/download/P1/energy_dataset.csv) contiene la base de datos usada para los procesamientos implementados.\n",
        "-El archivo \"parimpar_mlp_concatena_p_ok_080325.ipynb\" (https://github.com/Pedro-Ortega-G/P_ESTOCASTICOS/blob/main/parimpar_mlp_concatena_p_ok_080325.ipynb) contiene una rutina que implementa un mlp como elemento predictor de dos series de tiempo extraidas de las muestras pares e impares de la serie original y luego concatenadas.\n",
        "-El archivo \"SCA_mlp_concatenate_3_ok_080325.ipynb\" (https://github.com/Pedro-Ortega-G/P_ESTOCASTICOS/blob/main/SCA_mlp_concatenate_3_ok_080325.ipynb) contiene una rutina que implementa un mlp como elemento predictor de tres series de tiempo extraidas de la la serie original usando un sca y luego concatenadas.\n",
        "-El archivo \"gen_varios_concat_ok_080325.ipynb\" (https://github.com/Pedro-Ortega-G/P_ESTOCASTICOS/blob/main/gen_varios_concat_ok_080325.ipynb) contiene una rutina que implementa un mlp como elemento predictor de cuatro series de tiempo extraidas directamente de la base de datos original, luego concatenadas usadas como entrada a otro mlp para generar la predicción.\n",
        "-El archivo \"gen_biomass_autoe_090325_ok.ipynb\" (https://github.com/Pedro-Ortega-G/P_ESTOCASTICOS/blob/main/gen_biomass_autoe_090325_ok.ipynb) contiene una rutina que entrena un autoencoder para reconstruir una serie de tiempo; luego, a partir de la representacion latente obtenida del entrenamiento del autoencoder, implementa un mlp como elemento predictor."
      ],
      "metadata": {
        "id": "Sfv2gqgatWtG"
      }
    }
  ]
}